{
 "cells": [
  {
   "cell_type": "code",
   "execution_count": 1,
   "id": "8735214f",
   "metadata": {},
   "outputs": [],
   "source": [
    "import adpipy"
   ]
  },
  {
   "cell_type": "code",
   "execution_count": 3,
   "id": "38de83ae",
   "metadata": {
    "scrolled": true
   },
   "outputs": [
    {
     "name": "stdout",
     "output_type": "stream",
     "text": [
      "Help on package adpipy:\n",
      "\n",
      "NAME\n",
      "    adpipy\n",
      "\n",
      "PACKAGE CONTENTS\n",
      "    AlmaMap\n",
      "    ExtractNSigmaRegions\n",
      "    NoiseCal\n",
      "\n",
      "FILE\n",
      "    /Users/menorahlam/myvenv/lib/python3.8/site-packages/adpipy/__init__.py\n",
      "\n",
      "\n"
     ]
    }
   ],
   "source": [
    "help(adpipy)"
   ]
  },
  {
   "cell_type": "markdown",
   "id": "c7432103",
   "metadata": {},
   "source": [
    "## Create the 2D-image FITS file from the original FITS using adpipy.AlmaMap"
   ]
  },
  {
   "cell_type": "code",
   "execution_count": 20,
   "id": "79fef737",
   "metadata": {},
   "outputs": [
    {
     "name": "stdout",
     "output_type": "stream",
     "text": [
      "UV-171060.4spw.cont.image.fits is a ALMA Continuum Map\n"
     ]
    },
    {
     "name": "stderr",
     "output_type": "stream",
     "text": [
      "WARNING: FITSFixedWarning: 'datfix' made the change 'Set MJD-OBS to 58248.993366 from DATE-OBS'. [astropy.wcs.wcs]\n",
      "WARNING: FITSFixedWarning: 'obsfix' made the change 'Set OBSGEO-L to   -67.754929 from OBSGEO-[XYZ].\n",
      "Set OBSGEO-B to   -23.022886 from OBSGEO-[XYZ].\n",
      "Set OBSGEO-H to     5053.796 from OBSGEO-[XYZ]'. [astropy.wcs.wcs]\n"
     ]
    }
   ],
   "source": [
    "am = adpipy.AlmaMap(imagename='UV-171060.4spw.cont.image.fits')"
   ]
  },
  {
   "cell_type": "code",
   "execution_count": 23,
   "id": "021732eb",
   "metadata": {},
   "outputs": [
    {
     "data": {
      "text/plain": [
       "WCS Keywords\n",
       "\n",
       "Number of WCS axes: 4\n",
       "CTYPE : 'RA---SIN'  'DEC--SIN'  'FREQ'  'STOKES'  \n",
       "CRVAL : 149.7895  2.34132778  253383721004.1  1.0  \n",
       "CRPIX : 91.0  91.0  1.0  1.0  \n",
       "PC1_1 PC1_2 PC1_3 PC1_4  : 1.0  0.0  0.0  0.0  \n",
       "PC2_1 PC2_2 PC2_3 PC2_4  : 0.0  1.0  0.0  0.0  \n",
       "PC3_1 PC3_2 PC3_3 PC3_4  : 0.0  0.0  1.0  0.0  \n",
       "PC4_1 PC4_2 PC4_3 PC4_4  : 0.0  0.0  0.0  1.0  \n",
       "CDELT : -5.555555555556e-05  5.555555555556e-05  18738760669.19  1.0  \n",
       "NAXIS : 180  180  1  1"
      ]
     },
     "execution_count": 23,
     "metadata": {},
     "output_type": "execute_result"
    }
   ],
   "source": [
    "am.wcs"
   ]
  },
  {
   "cell_type": "code",
   "execution_count": 24,
   "id": "01424474",
   "metadata": {},
   "outputs": [],
   "source": [
    "am.write_img2fits()"
   ]
  },
  {
   "cell_type": "code",
   "execution_count": 2,
   "id": "95b87e6e",
   "metadata": {},
   "outputs": [
    {
     "name": "stdout",
     "output_type": "stream",
     "text": [
      "UV-171060.2d.image.fits is a 2D ALMA Continuum Map. It doesn't have frequency channels - NAXIS3\n"
     ]
    },
    {
     "name": "stderr",
     "output_type": "stream",
     "text": [
      "WARNING: FITSFixedWarning: 'datfix' made the change 'Set MJD-OBS to 58248.993366 from DATE-OBS'. [astropy.wcs.wcs]\n",
      "WARNING: FITSFixedWarning: 'obsfix' made the change 'Set OBSGEO-L to   -67.754929 from OBSGEO-[XYZ].\n",
      "Set OBSGEO-B to   -23.022886 from OBSGEO-[XYZ].\n",
      "Set OBSGEO-H to     5053.796 from OBSGEO-[XYZ]'. [astropy.wcs.wcs]\n"
     ]
    }
   ],
   "source": [
    "am2d = adpipy.AlmaMap(imagename='UV-171060.2d.image.fits')"
   ]
  },
  {
   "cell_type": "code",
   "execution_count": 3,
   "id": "e6e6a0e0",
   "metadata": {},
   "outputs": [
    {
     "data": {
      "text/plain": [
       "WCS Keywords\n",
       "\n",
       "Number of WCS axes: 2\n",
       "CTYPE : 'RA---SIN'  'DEC--SIN'  \n",
       "CRVAL : 149.7895  2.34132778  \n",
       "CRPIX : 91.0  91.0  \n",
       "PC1_1 PC1_2  : 1.0  0.0  \n",
       "PC2_1 PC2_2  : 0.0  1.0  \n",
       "CDELT : -5.555555555556e-05  5.555555555556e-05  \n",
       "NAXIS : 180  180"
      ]
     },
     "execution_count": 3,
     "metadata": {},
     "output_type": "execute_result"
    }
   ],
   "source": [
    "am2d.wcs"
   ]
  },
  {
   "cell_type": "code",
   "execution_count": 5,
   "id": "1d3f8158",
   "metadata": {},
   "outputs": [
    {
     "name": "stdout",
     "output_type": "stream",
     "text": [
      "Help on module adpipy.ExtractNSigmaRegions in adpipy:\n",
      "\n",
      "NAME\n",
      "    adpipy.ExtractNSigmaRegions\n",
      "\n",
      "DESCRIPTION\n",
      "    Lead Developer: Timothy Yu\n",
      "    Email: tinyau.yu@outlook.com\n",
      "    Date: 2022.06.26\n",
      "\n",
      "CLASSES\n",
      "    adpipy.NoiseCal.AlmaMap_NoiseCal(adpipy.AlmaMap.AlmaMap)\n",
      "        AlmaMap_ExtractNSigmaRegions\n",
      "    \n",
      "    class AlmaMap_ExtractNSigmaRegions(adpipy.NoiseCal.AlmaMap_NoiseCal)\n",
      "     |  AlmaMap_ExtractNSigmaRegions(imagename='', region='', subregion='', nsigma_lvls=array([1. , 1.5, 2. , 2.5, 3. , 3.5, 4. , 4.5, 5. ]), **kwargs)\n",
      "     |  \n",
      "     |  A child class of AlmaMap class which computes the RMS noise of a non-primary beam corrected map or a region of the map\n",
      "     |  \n",
      "     |  Parameters\n",
      "     |  ----------\n",
      "     |  imagename: str\n",
      "     |      The path to the FITS file\n",
      "     |  \n",
      "     |  region: str\n",
      "     |      The path to the CASA region file with an extension of .crtf\n",
      "     |      Without region file, the default region is the whole map\n",
      "     |  \n",
      "     |  kwargs: \n",
      "     |      The key arguments for CASA task - imval()\n",
      "     |      Only required when region file is specified\n",
      "     |  \n",
      "     |  \n",
      "     |  Attributes\n",
      "     |  ----------\n",
      "     |  self.region: str\n",
      "     |      The path to the region file\n",
      "     |  \n",
      "     |  self.noise_pixel_dist: dict\n",
      "     |      The dictionary that stores the counts and pixel values of the pixel distribution which will be used to compute the RMS noise\n",
      "     |  \n",
      "     |  self.noise_dist: dict\n",
      "     |      The pixel distribution which includes pixels that are considered as noise\n",
      "     |  \n",
      "     |  self.rms: dict\n",
      "     |      The estimated root-mean-square noise of the map or the region and curve-fit uncertainty\n",
      "     |  \n",
      "     |  Methods\n",
      "     |  -------\n",
      "     |  gaussian_func(self, x, a, mean, std)\n",
      "     |      1D Gaussian Function\n",
      "     |  \n",
      "     |  plot_snr_dist(self)\n",
      "     |      Plot the distribution of the pixel signal-to-noise ratio values\n",
      "     |      It also overplots the fitted Gaussian noise distribution if noise pixels are found\n",
      "     |  \n",
      "     |  plot_snr_res(self)\n",
      "     |      Plot the residuals between the Gaussian noise distribution and the actual pixel distribution of the map\n",
      "     |      It won't execute if noise pixels are not found\n",
      "     |  \n",
      "     |  get_noise_dist(self)\n",
      "     |      Obtain the distribution of the noise from the pixel distribution of the map or the region\n",
      "     |  \n",
      "     |  get_region_noise_dist(self, region='', **kwargs)\n",
      "     |      Obtain the pixel distribution of the region using CASA tasks: imval()\n",
      "     |  \n",
      "     |  Method resolution order:\n",
      "     |      AlmaMap_ExtractNSigmaRegions\n",
      "     |      adpipy.NoiseCal.AlmaMap_NoiseCal\n",
      "     |      adpipy.AlmaMap.AlmaMap\n",
      "     |      builtins.object\n",
      "     |  \n",
      "     |  Methods defined here:\n",
      "     |  \n",
      "     |  __init__(self, imagename='', region='', subregion='', nsigma_lvls=array([1. , 1.5, 2. , 2.5, 3. , 3.5, 4. , 4.5, 5. ]), **kwargs)\n",
      "     |      Initialize self.  See help(type(self)) for accurate signature.\n",
      "     |  \n",
      "     |  get_nsigma_regions(self, imgdata, rms, wcs, nsigma_lvl=[2])\n",
      "     |  \n",
      "     |  get_subregion_data(self, **kwargs)\n",
      "     |  \n",
      "     |  writeCRTF(fout, message)\n",
      "     |  \n",
      "     |  ----------------------------------------------------------------------\n",
      "     |  Methods inherited from adpipy.NoiseCal.AlmaMap_NoiseCal:\n",
      "     |  \n",
      "     |  gaussian_func(self, x, a, mean, std)\n",
      "     |      1D Gaussian Function\n",
      "     |      \n",
      "     |      Parameters\n",
      "     |      ----------\n",
      "     |      x: numpy.ndarray\n",
      "     |          A numpy array of the image data (pixel values/SNR)\n",
      "     |      a: float\n",
      "     |          Height of the curve's peak\n",
      "     |      mean: float\n",
      "     |          The position of the center of the peak\n",
      "     |      std: float\n",
      "     |          The standard deviation\n",
      "     |      \n",
      "     |      Returns\n",
      "     |      -------\n",
      "     |      y: numpy.ndarray\n",
      "     |  \n",
      "     |  get_noise_dist(self)\n",
      "     |      Obtain the pixel distribution of noise\n",
      "     |      \n",
      "     |      Parameters:\n",
      "     |      ----------\n",
      "     |      self.noise_pixel_dist: numpy.ndarray\n",
      "     |          Pixel distribution of the ALMA map used to compute the noise\n",
      "     |      \n",
      "     |      Return:\n",
      "     |      ------\n",
      "     |      noise_dist: numpy.ndarray\n",
      "     |          Includes the noise pixel counts and centers of the binned pixel values of noise\n",
      "     |  \n",
      "     |  get_region_pixel_dist(self, region='', **kwargs)\n",
      "     |      Obtain the pixel distribution of the region using CASA tasks: imval()\n",
      "     |      \n",
      "     |      Parameters\n",
      "     |      ----------\n",
      "     |      region: str\n",
      "     |          CASA region file\n",
      "     |      \n",
      "     |      kwargs: \n",
      "     |          parameters for casa:imval()\n",
      "     |      \n",
      "     |      Returns\n",
      "     |      -------\n",
      "     |      pixel_dist: dict\n",
      "     |          Pixel distribution of a region\n",
      "     |  \n",
      "     |  get_rms_noise(self)\n",
      "     |      Obtain the distribution of the noise from the pixel distribution of the map or the region\n",
      "     |      \n",
      "     |      Parameters\n",
      "     |      ----------\n",
      "     |      None\n",
      "     |      \n",
      "     |      Returns\n",
      "     |      -------\n",
      "     |      rms: dict\n",
      "     |          RMS noise value and its uncertainty\n",
      "     |  \n",
      "     |  plot_snr_dist(self)\n",
      "     |      Plot the distribution of the pixel signal-to-noise ratio values\n",
      "     |      \n",
      "     |      Parameters\n",
      "     |      ----------\n",
      "     |      None\n",
      "     |      \n",
      "     |      Returns\n",
      "     |      -------\n",
      "     |      None\n",
      "     |  \n",
      "     |  plot_snr_res(self)\n",
      "     |      \"\n",
      "     |      \n",
      "     |      Plot the residuals between the Gaussian noise distribution and the actual pixel distribution of the map\n",
      "     |      It won't execute if noise pixels are not found\n",
      "     |      \n",
      "     |      Parameters\n",
      "     |      ----------\n",
      "     |      None\n",
      "     |      \n",
      "     |      Returns\n",
      "     |      -------\n",
      "     |      None\n",
      "     |  \n",
      "     |  ----------------------------------------------------------------------\n",
      "     |  Methods inherited from adpipy.AlmaMap.AlmaMap:\n",
      "     |  \n",
      "     |  get_header(self)\n",
      "     |      Read the header data from the FITS file and\n",
      "     |      \n",
      "     |      Parameters\n",
      "     |      ----------\n",
      "     |      self.imagename: str\n",
      "     |          The path of the FITS file\n",
      "     |      \n",
      "     |      Returns\n",
      "     |      -------\n",
      "     |      header: dict\n",
      "     |          The header of the FITS file\n",
      "     |  \n",
      "     |  get_imgdata(self)\n",
      "     |      Get pixel values from the images of the FIT file\n",
      "     |      \n",
      "     |      Parameters\n",
      "     |      ----------\n",
      "     |      self.imagename: str\n",
      "     |          Path to the FITS file\n",
      "     |      \n",
      "     |      Returns\n",
      "     |      -------\n",
      "     |      imgdata: numpy.ndarray\n",
      "     |          pixel values of the image\n",
      "     |  \n",
      "     |  get_pixel_dist(self, imgdata)\n",
      "     |      Obtain the pixel distribution of the map\n",
      "     |      \n",
      "     |      Parameters\n",
      "     |      ----------\n",
      "     |      imgdata: numpy.ndarray\n",
      "     |          2D image data of the given ALMA map\n",
      "     |      \n",
      "     |      Returns\n",
      "     |      -------\n",
      "     |      pixel_dist: numpy.ndarray\n",
      "     |          Includes the pixel counts and the centers of the binned pixel values\n",
      "     |  \n",
      "     |  get_wcs(self)\n",
      "     |      Obtain the WCS of the map\n",
      "     |      \n",
      "     |      Returns\n",
      "     |      -------\n",
      "     |      wcs: astropy.wcs\n",
      "     |  \n",
      "     |  print_header(self)\n",
      "     |      Print the header data of the FITS file\n",
      "     |      \n",
      "     |      Parameters\n",
      "     |      ----------\n",
      "     |      self.header: dict\n",
      "     |          AlmaMap class header dictionary\n",
      "     |      \n",
      "     |      Returns\n",
      "     |      -------\n",
      "     |      None\n",
      "     |  \n",
      "     |  write_img2fits(self)\n",
      "     |      Convert image data from the FITS file to a 2D FITS file\n",
      "     |      \n",
      "     |      Parameters\n",
      "     |      ----------\n",
      "     |      self.imagename: str \n",
      "     |          Path to the FITS file\n",
      "     |      \n",
      "     |      Returns\n",
      "     |      -------\n",
      "     |      None\n",
      "     |  \n",
      "     |  ----------------------------------------------------------------------\n",
      "     |  Data descriptors inherited from adpipy.AlmaMap.AlmaMap:\n",
      "     |  \n",
      "     |  __dict__\n",
      "     |      dictionary for instance variables (if defined)\n",
      "     |  \n",
      "     |  __weakref__\n",
      "     |      list of weak references to the object (if defined)\n",
      "\n",
      "DATA\n",
      "    imstat = <casatasks.imstat._imstat object>\n",
      "    imval = <casatasks.imval._imval object>\n",
      "    is_CASA6 = True\n",
      "\n",
      "FILE\n",
      "    /Users/menorahlam/myvenv/lib/python3.8/site-packages/adpipy/ExtractNSigmaRegions.py\n",
      "\n",
      "\n"
     ]
    }
   ],
   "source": [
    "help(adpipy.ExtractNSigmaRegions)"
   ]
  },
  {
   "cell_type": "code",
   "execution_count": 2,
   "id": "315b4731",
   "metadata": {},
   "outputs": [
    {
     "name": "stdout",
     "output_type": "stream",
     "text": [
      "UV-171060.2d.image.fits is a 2D ALMA Continuum Map. It doesn't have frequency channels - NAXIS3\n",
      "CASA Region File is NOT provided... \n",
      "Extract RMS noise using the whole map...\n",
      "RMS Calculation Results: \n",
      "------------------------------- \n",
      "RMS Noise Estimation using Least Square Curve Fitting \n",
      "RMS Noise = 1.91e-05 +/- 1.22e-07 [Jy/beam] \n",
      "------------------------------- \n",
      "Goodness of fit statistics \n",
      "R2 = 9.96e-01\n",
      "CASA Region File is detected... \n",
      "Extract N-sigma regions from the subregion...\n"
     ]
    },
    {
     "name": "stderr",
     "output_type": "stream",
     "text": [
      "WARNING: FITSFixedWarning: 'datfix' made the change 'Set MJD-OBS to 58248.993366 from DATE-OBS'. [astropy.wcs.wcs]\n",
      "WARNING: FITSFixedWarning: 'obsfix' made the change 'Set OBSGEO-L to   -67.754929 from OBSGEO-[XYZ].\n",
      "Set OBSGEO-B to   -23.022886 from OBSGEO-[XYZ].\n",
      "Set OBSGEO-H to     5053.796 from OBSGEO-[XYZ]'. [astropy.wcs.wcs]\n",
      "/Users/menorahlam/myvenv/lib/python3.8/site-packages/adpipy/ExtractNSigmaRegions.py:108: VisibleDeprecationWarning: Creating an ndarray from ragged nested sequences (which is a list-or-tuple of lists-or-tuples-or ndarrays with different lengths or shapes) is deprecated. If you meant to do this, you must specify 'dtype=object' when creating the ndarray.\n",
      "  poly = np.array(conts.allsegs)[0]  # polygonal pixel coordinates of the contours\n",
      "/Users/menorahlam/myvenv/lib/python3.8/site-packages/adpipy/ExtractNSigmaRegions.py:108: VisibleDeprecationWarning: Creating an ndarray from ragged nested sequences (which is a list-or-tuple of lists-or-tuples-or ndarrays with different lengths or shapes) is deprecated. If you meant to do this, you must specify 'dtype=object' when creating the ndarray.\n",
      "  poly = np.array(conts.allsegs)[0]  # polygonal pixel coordinates of the contours\n",
      "/Users/menorahlam/myvenv/lib/python3.8/site-packages/adpipy/ExtractNSigmaRegions.py:108: VisibleDeprecationWarning: Creating an ndarray from ragged nested sequences (which is a list-or-tuple of lists-or-tuples-or ndarrays with different lengths or shapes) is deprecated. If you meant to do this, you must specify 'dtype=object' when creating the ndarray.\n",
      "  poly = np.array(conts.allsegs)[0]  # polygonal pixel coordinates of the contours\n",
      "/Users/menorahlam/myvenv/lib/python3.8/site-packages/adpipy/ExtractNSigmaRegions.py:108: VisibleDeprecationWarning: Creating an ndarray from ragged nested sequences (which is a list-or-tuple of lists-or-tuples-or ndarrays with different lengths or shapes) is deprecated. If you meant to do this, you must specify 'dtype=object' when creating the ndarray.\n",
      "  poly = np.array(conts.allsegs)[0]  # polygonal pixel coordinates of the contours\n",
      "/Users/menorahlam/myvenv/lib/python3.8/site-packages/adpipy/ExtractNSigmaRegions.py:108: VisibleDeprecationWarning: Creating an ndarray from ragged nested sequences (which is a list-or-tuple of lists-or-tuples-or ndarrays with different lengths or shapes) is deprecated. If you meant to do this, you must specify 'dtype=object' when creating the ndarray.\n",
      "  poly = np.array(conts.allsegs)[0]  # polygonal pixel coordinates of the contours\n",
      "/Users/menorahlam/myvenv/lib/python3.8/site-packages/adpipy/ExtractNSigmaRegions.py:108: VisibleDeprecationWarning: Creating an ndarray from ragged nested sequences (which is a list-or-tuple of lists-or-tuples-or ndarrays with different lengths or shapes) is deprecated. If you meant to do this, you must specify 'dtype=object' when creating the ndarray.\n",
      "  poly = np.array(conts.allsegs)[0]  # polygonal pixel coordinates of the contours\n",
      "/Users/menorahlam/myvenv/lib/python3.8/site-packages/adpipy/ExtractNSigmaRegions.py:108: VisibleDeprecationWarning: Creating an ndarray from ragged nested sequences (which is a list-or-tuple of lists-or-tuples-or ndarrays with different lengths or shapes) is deprecated. If you meant to do this, you must specify 'dtype=object' when creating the ndarray.\n",
      "  poly = np.array(conts.allsegs)[0]  # polygonal pixel coordinates of the contours\n",
      "/Users/menorahlam/myvenv/lib/python3.8/site-packages/adpipy/ExtractNSigmaRegions.py:108: VisibleDeprecationWarning: Creating an ndarray from ragged nested sequences (which is a list-or-tuple of lists-or-tuples-or ndarrays with different lengths or shapes) is deprecated. If you meant to do this, you must specify 'dtype=object' when creating the ndarray.\n",
      "  poly = np.array(conts.allsegs)[0]  # polygonal pixel coordinates of the contours\n",
      "No artists with labels found to put in legend.  Note that artists whose label start with an underscore are ignored when legend() is called with no argument.\n",
      "No artists with labels found to put in legend.  Note that artists whose label start with an underscore are ignored when legend() is called with no argument.\n"
     ]
    },
    {
     "data": {
      "text/plain": [
       "<adpipy.ExtractNSigmaRegions.AlmaMap_ExtractNSigmaRegions at 0x126b83700>"
      ]
     },
     "execution_count": 2,
     "metadata": {},
     "output_type": "execute_result"
    }
   ],
   "source": [
    "adpipy.ExtractNSigmaRegions.AlmaMap_ExtractNSigmaRegions(imagename='UV-171060.2d.image.fits', subregion='UV-171060_peri.crtf')"
   ]
  },
  {
   "cell_type": "code",
   "execution_count": 3,
   "id": "27ad3869",
   "metadata": {},
   "outputs": [],
   "source": [
    "from casatasks import imval\n",
    "import numpy as np\n",
    "import matplotlib.pylab as plt\n",
    "import os, sys\n",
    "import json\n",
    "# normalization\n",
    "from astropy.visualization import SqrtStretch\n",
    "from astropy.visualization.stretch import AsinhStretch\n",
    "from astropy.visualization.stretch import LinearStretch\n",
    "from astropy.visualization import ImageNormalize\n",
    "from astropy.visualization import simple_norm\n",
    "from astropy.visualization import PercentileInterval\n",
    "from astropy.visualization import AsymmetricPercentileInterval"
   ]
  },
  {
   "cell_type": "code",
   "execution_count": 3,
   "id": "c8ffb63a",
   "metadata": {},
   "outputs": [
    {
     "ename": "NameError",
     "evalue": "name 'imval' is not defined",
     "output_type": "error",
     "traceback": [
      "\u001b[0;31m---------------------------------------------------------------------------\u001b[0m",
      "\u001b[0;31mNameError\u001b[0m                                 Traceback (most recent call last)",
      "Input \u001b[0;32mIn [3]\u001b[0m, in \u001b[0;36m<cell line: 1>\u001b[0;34m()\u001b[0m\n\u001b[0;32m----> 1\u001b[0m results \u001b[38;5;241m=\u001b[39m \u001b[43mimval\u001b[49m(\u001b[38;5;124m'\u001b[39m\u001b[38;5;124mUV-171060.2d.image.fits\u001b[39m\u001b[38;5;124m'\u001b[39m, region\u001b[38;5;241m=\u001b[39m\u001b[38;5;124m'\u001b[39m\u001b[38;5;124mUV-171060_peri.crtf\u001b[39m\u001b[38;5;124m'\u001b[39m)\n",
      "\u001b[0;31mNameError\u001b[0m: name 'imval' is not defined"
     ]
    }
   ],
   "source": [
    "results = imval('UV-171060.2d.image.fits', region='UV-171060_peri.crtf')"
   ]
  },
  {
   "cell_type": "code",
   "execution_count": 5,
   "id": "c9c04523",
   "metadata": {},
   "outputs": [
    {
     "data": {
      "text/plain": [
       "(20, 18)"
      ]
     },
     "execution_count": 5,
     "metadata": {},
     "output_type": "execute_result"
    }
   ],
   "source": [
    "results['data'].shape"
   ]
  },
  {
   "cell_type": "code",
   "execution_count": 6,
   "id": "8a130a20",
   "metadata": {},
   "outputs": [
    {
     "data": {
      "text/plain": [
       "(20, 18)"
      ]
     },
     "execution_count": 6,
     "metadata": {},
     "output_type": "execute_result"
    }
   ],
   "source": [
    "results['mask'].shape"
   ]
  },
  {
   "cell_type": "code",
   "execution_count": 7,
   "id": "875a70de",
   "metadata": {},
   "outputs": [
    {
     "data": {
      "text/plain": [
       "(277,)"
      ]
     },
     "execution_count": 7,
     "metadata": {},
     "output_type": "execute_result"
    }
   ],
   "source": [
    "results['data'][results['mask']].shape"
   ]
  },
  {
   "cell_type": "code",
   "execution_count": 8,
   "id": "690f4e90",
   "metadata": {
    "scrolled": true
   },
   "outputs": [],
   "source": [
    "imgdata = results['data']*results['mask']"
   ]
  },
  {
   "cell_type": "code",
   "execution_count": 9,
   "id": "a05644e5",
   "metadata": {},
   "outputs": [],
   "source": [
    "pmin, pmax = 0.25, 99.75\n",
    "interval = AsymmetricPercentileInterval(pmin, pmax)\n",
    "vmin, vmax = interval.get_limits(imgdata)\n",
    "stretch = LinearStretch()\n",
    "norm = ImageNormalize(stretch=stretch, vmin=vmin, vmax=vmax)"
   ]
  },
  {
   "cell_type": "code",
   "execution_count": 10,
   "id": "2a0d1292",
   "metadata": {},
   "outputs": [
    {
     "name": "stdout",
     "output_type": "stream",
     "text": [
      "UV-171060.2d.image.fits is a 2D ALMA Continuum Map. It doesn't have frequency channels - NAXIS3\n",
      "UV-171060.2d.image.fits is a 2D ALMA Continuum Map. It doesn't have frequency channels - NAXIS3\n",
      "CASA Region File is NOT provided... \n",
      "Extract RMS noise using the whole map...\n",
      "RMS Calculation Results: \n",
      "------------------------------- \n",
      "RMS Noise Estimation using Least Square Curve Fitting \n",
      "RMS Noise = 1.91e-05 +/- 1.22e-07 [Jy/beam] \n",
      "------------------------------- \n",
      "Goodness of fit statistics \n",
      "R2 = 9.96e-01\n"
     ]
    },
    {
     "name": "stderr",
     "output_type": "stream",
     "text": [
      "WARNING: FITSFixedWarning: 'datfix' made the change 'Set MJD-OBS to 58248.993366 from DATE-OBS'. [astropy.wcs.wcs]\n",
      "WARNING: FITSFixedWarning: 'obsfix' made the change 'Set OBSGEO-L to   -67.754929 from OBSGEO-[XYZ].\n",
      "Set OBSGEO-B to   -23.022886 from OBSGEO-[XYZ].\n",
      "Set OBSGEO-H to     5053.796 from OBSGEO-[XYZ]'. [astropy.wcs.wcs]\n"
     ]
    }
   ],
   "source": [
    "wcs = adpipy.AlmaMap(imagename='UV-171060.2d.image.fits').wcs\n",
    "rms = adpipy.AlmaMap_NoiseCal(imagename='UV-171060.2d.image.fits').rms['rms_noise']"
   ]
  },
  {
   "cell_type": "code",
   "execution_count": 11,
   "id": "65d75150",
   "metadata": {},
   "outputs": [
    {
     "data": {
      "image/png": "[encoded data removed]",
      "text/plain": [
       "<Figure size 720x720 with 1 Axes>"
      ]
     },
     "metadata": {
      "needs_background": "light"
     },
     "output_type": "display_data"
    }
   ],
   "source": [
    "fig = plt.figure(figsize=(10,10))\n",
    "ax = fig.add_subplot(1,1,1, projection=wcs)"
   ]
  },
  {
   "cell_type": "code",
   "execution_count": 12,
   "id": "453a3e5b",
   "metadata": {},
   "outputs": [],
   "source": [
    "conts = ax.contour(imgdata, \n",
    "                    levels=tuple(np.array([2])*rms), \n",
    "                    colors='white',\n",
    "                    transform=ax.get_transform(wcs),\n",
    "                    linewidths=2,\n",
    "                    alpha=0.8)"
   ]
  },
  {
   "cell_type": "code",
   "execution_count": 13,
   "id": "13cc77f4",
   "metadata": {},
   "outputs": [
    {
     "name": "stdout",
     "output_type": "stream",
     "text": [
      "UV-171060.2d.image.fits is a 2D ALMA Continuum Map. It doesn't have frequency channels - NAXIS3\n"
     ]
    },
    {
     "name": "stderr",
     "output_type": "stream",
     "text": [
      "WARNING: FITSFixedWarning: 'datfix' made the change 'Set MJD-OBS to 58248.993366 from DATE-OBS'. [astropy.wcs.wcs]\n",
      "WARNING: FITSFixedWarning: 'obsfix' made the change 'Set OBSGEO-L to   -67.754929 from OBSGEO-[XYZ].\n",
      "Set OBSGEO-B to   -23.022886 from OBSGEO-[XYZ].\n",
      "Set OBSGEO-H to     5053.796 from OBSGEO-[XYZ]'. [astropy.wcs.wcs]\n"
     ]
    }
   ],
   "source": [
    "im = ax.imshow(adpipy.AlmaMap(imagename='UV-171060.2d.image.fits').imgdata, cmap='Greys', norm=norm)  # plot the whole map from the FITS file"
   ]
  },
  {
   "cell_type": "code",
   "execution_count": 15,
   "id": "f35f2123",
   "metadata": {},
   "outputs": [],
   "source": [
    "# get contour coordinates\n",
    "poly = np.array(conts.allsegs)[0]  # polygonal pixel coordinates of the contours\n",
    "pix = np.array(['pix'])\n",
    "prefix = np.array(['poly '])\n",
    "num_cont = 1\n",
    "file_title = 'testing.sigma.'"
   ]
  },
  {
   "cell_type": "code",
   "execution_count": 16,
   "id": "478f531b",
   "metadata": {},
   "outputs": [],
   "source": [
    "x = poly[0][:,0]  # x-coordinates of the contours\n",
    "y = poly[0][:,1]  # y-coordinates of the contours"
   ]
  }
 ],
 "metadata": {
  "kernelspec": {
   "display_name": "myenv",
   "language": "python",
   "name": "myenv"
  },
  "language_info": {
   "codemirror_mode": {
    "name": "ipython",
    "version": 3
   },
   "file_extension": ".py",
   "mimetype": "text/x-python",
   "name": "python",
   "nbconvert_exporter": "python",
   "pygments_lexer": "ipython3",
   "version": "3.8.13"
  }
 },
 "nbformat": 4,
 "nbformat_minor": 5
}
