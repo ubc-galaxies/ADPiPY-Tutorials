{
 "cells": [
  {
   "cell_type": "code",
   "execution_count": 1,
   "id": "dd8b18f0",
   "metadata": {},
   "outputs": [],
   "source": [
    "import adpipy"
   ]
  },
  {
   "cell_type": "code",
   "execution_count": 2,
   "id": "6c7a59dd",
   "metadata": {
    "scrolled": false
   },
   "outputs": [
    {
     "name": "stdout",
     "output_type": "stream",
     "text": [
      "Help on class Photometry in module adpipy.Photometry:\n",
      "\n",
      "class Photometry(builtins.object)\n",
      " |  Photometry(rms, pbcor='', pb='', region='')\n",
      " |  \n",
      " |  Methods defined here:\n",
      " |  \n",
      " |  __init__(self, rms, pbcor='', pb='', region='')\n",
      " |      Initialize self.  See help(type(self)) for accurate signature.\n",
      " |  \n",
      " |  get_fluxerr(self)\n",
      " |  \n",
      " |  get_stats(self, imagename, region)\n",
      " |  \n",
      " |  ----------------------------------------------------------------------\n",
      " |  Data descriptors defined here:\n",
      " |  \n",
      " |  __dict__\n",
      " |      dictionary for instance variables (if defined)\n",
      " |  \n",
      " |  __weakref__\n",
      " |      list of weak references to the object (if defined)\n",
      "\n"
     ]
    }
   ],
   "source": [
    "help(adpipy.Photometry)"
   ]
  },
  {
   "cell_type": "markdown",
   "id": "3a65a655",
   "metadata": {},
   "source": [
    "## Get the paths of the primary-beam corrected image and the primary-beam image"
   ]
  },
  {
   "cell_type": "code",
   "execution_count": 3,
   "id": "333d88e9",
   "metadata": {},
   "outputs": [],
   "source": [
    "pbcor = '../UV-171060.4spw.cont.image.pbcor.fits'\n",
    "pb = '../UV-171060.4spw.cont.pb.fits'"
   ]
  },
  {
   "cell_type": "markdown",
   "id": "85f760ef",
   "metadata": {},
   "source": [
    "## Get RMS noise value use adpipy.AlmaMap_NoiseCal"
   ]
  },
  {
   "cell_type": "code",
   "execution_count": 4,
   "id": "f8bbc3b6",
   "metadata": {},
   "outputs": [
    {
     "name": "stdout",
     "output_type": "stream",
     "text": [
      "../UV-171060.4spw.cont.image.fits is a ALMA Continuum Map\n",
      "CASA Region File is NOT provided... \n",
      "Extract RMS noise using the whole map...\n",
      "RMS Calculation Results: \n",
      "------------------------------- \n",
      "RMS Noise Estimation using Least Square Curve Fitting \n",
      "RMS Noise = 1.91e-05 +/- 1.22e-07 [Jy/beam] \n",
      "------------------------------- \n",
      "Goodness of fit statistics \n",
      "R2 = 9.96e-01\n"
     ]
    },
    {
     "name": "stderr",
     "output_type": "stream",
     "text": [
      "WARNING: FITSFixedWarning: 'datfix' made the change 'Set MJD-OBS to 58248.993366 from DATE-OBS'. [astropy.wcs.wcs]\n",
      "WARNING: FITSFixedWarning: 'obsfix' made the change 'Set OBSGEO-L to   -67.754929 from OBSGEO-[XYZ].\n",
      "Set OBSGEO-B to   -23.022886 from OBSGEO-[XYZ].\n",
      "Set OBSGEO-H to     5053.796 from OBSGEO-[XYZ]'. [astropy.wcs.wcs]\n"
     ]
    }
   ],
   "source": [
    "DATAPATH = '../UV-171060.4spw.cont.image.fits'  # Continuum map (dirty-map)\n",
    "am_noise = adpipy.AlmaMap_NoiseCal(imagename=DATAPATH)"
   ]
  },
  {
   "cell_type": "markdown",
   "id": "d2df6c52",
   "metadata": {},
   "source": [
    "## Set RMS noise value as rms"
   ]
  },
  {
   "cell_type": "code",
   "execution_count": 5,
   "id": "0b20ccb7",
   "metadata": {},
   "outputs": [],
   "source": [
    "rms = am_noise.rms['rms_noise']"
   ]
  },
  {
   "cell_type": "code",
   "execution_count": 6,
   "id": "41c3bbf6",
   "metadata": {},
   "outputs": [
    {
     "data": {
      "text/plain": [
       "1.9137836373951047e-05"
      ]
     },
     "execution_count": 6,
     "metadata": {},
     "output_type": "execute_result"
    }
   ],
   "source": [
    "rms"
   ]
  },
  {
   "cell_type": "markdown",
   "id": "af600e88",
   "metadata": {},
   "source": [
    "## Set a region for calculating the flux value"
   ]
  },
  {
   "cell_type": "code",
   "execution_count": 7,
   "id": "6a9654a5",
   "metadata": {},
   "outputs": [],
   "source": [
    "region = '../ExtractNSigmaRegions_tutorial/UV-171060_peri.2.0sigma.1.crtf'"
   ]
  },
  {
   "cell_type": "markdown",
   "id": "52998051",
   "metadata": {},
   "source": [
    "## Estimate the flux within the region"
   ]
  },
  {
   "cell_type": "code",
   "execution_count": 8,
   "id": "2fad17a7",
   "metadata": {},
   "outputs": [
    {
     "name": "stdout",
     "output_type": "stream",
     "text": [
      "../UV-171060.4spw.cont.image.pbcor.fits is a ALMA Continuum Map\n"
     ]
    }
   ],
   "source": [
    "p = adpipy.Photometry(rms, pbcor=pbcor, pb=pb, region=region)"
   ]
  },
  {
   "cell_type": "code",
   "execution_count": 9,
   "id": "ee3c3e2f",
   "metadata": {},
   "outputs": [
    {
     "data": {
      "text/plain": [
       "0.05971854218981324"
      ]
     },
     "execution_count": 9,
     "metadata": {},
     "output_type": "execute_result"
    }
   ],
   "source": [
    "p.flux"
   ]
  },
  {
   "cell_type": "code",
   "execution_count": 10,
   "id": "8c1f7b3f",
   "metadata": {},
   "outputs": [
    {
     "data": {
      "text/plain": [
       "2.037023253855051e-05"
      ]
     },
     "execution_count": 10,
     "metadata": {},
     "output_type": "execute_result"
    }
   ],
   "source": [
    "p.fluxerr"
   ]
  },
  {
   "cell_type": "code",
   "execution_count": null,
   "id": "369dd91d",
   "metadata": {},
   "outputs": [],
   "source": []
  }
 ],
 "metadata": {
  "kernelspec": {
   "display_name": "myenv",
   "language": "python",
   "name": "myenv"
  },
  "language_info": {
   "codemirror_mode": {
    "name": "ipython",
    "version": 3
   },
   "file_extension": ".py",
   "mimetype": "text/x-python",
   "name": "python",
   "nbconvert_exporter": "python",
   "pygments_lexer": "ipython3",
   "version": "3.8.13"
  }
 },
 "nbformat": 4,
 "nbformat_minor": 5
}
