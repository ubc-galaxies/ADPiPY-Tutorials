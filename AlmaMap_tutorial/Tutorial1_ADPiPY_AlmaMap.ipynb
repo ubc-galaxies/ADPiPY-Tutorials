{
 "cells": [
  {
   "cell_type": "code",
   "execution_count": 2,
   "id": "f0d1defa",
   "metadata": {},
   "outputs": [],
   "source": [
    "import adpipy"
   ]
  },
  {
   "cell_type": "code",
   "execution_count": 2,
   "id": "35e36efd",
   "metadata": {},
   "outputs": [
    {
     "name": "stdout",
     "output_type": "stream",
     "text": [
      "Help on package adpipy:\n",
      "\n",
      "NAME\n",
      "    adpipy\n",
      "\n",
      "PACKAGE CONTENTS\n",
      "    AlmaMap\n",
      "    NoiseCal\n",
      "\n",
      "FILE\n",
      "    /Users/menorahlam/myvenv/lib/python3.8/site-packages/adpipy/__init__.py\n",
      "\n",
      "\n"
     ]
    }
   ],
   "source": [
    "help(adpipy)"
   ]
  },
  {
   "cell_type": "code",
   "execution_count": 3,
   "id": "1aa31720",
   "metadata": {},
   "outputs": [
    {
     "name": "stdout",
     "output_type": "stream",
     "text": [
      "Help on class AlmaMap in module adpipy.AlmaMap:\n",
      "\n",
      "class AlmaMap(builtins.object)\n",
      " |  AlmaMap(imagename='')\n",
      " |  \n",
      " |  A class used to represent ALMA maps\n",
      " |  \n",
      " |  Attributes\n",
      " |  ----------\n",
      " |  imagename: str\n",
      " |      The path to the FITS file\n",
      " |  \n",
      " |  header: dict\n",
      " |      Header data of the FITS file \n",
      " |  \n",
      " |  telescope: str\n",
      " |      Observatory responsible for the data\n",
      " |  \n",
      " |  naxis: int \n",
      " |      Number of axis exists in the FITS file\n",
      " |  \n",
      " |  nchan: int \n",
      " |      Number of frequency channels\n",
      " |  \n",
      " |  datacube: bool\n",
      " |      Check if the FITS file is a data cube by nchan\n",
      " |  \n",
      " |  imgdata: numpy.ndarray\n",
      " |      datacube = True: Pixel values and Spectrum of the ALMA map\n",
      " |      datacube = False: The 2D image data of the ALMA map excluding the spectral axes\n",
      " |  \n",
      " |  img_shape: tuple\n",
      " |      The dimension of the image data\n",
      " |  \n",
      " |  object: str\n",
      " |      The name of the target of the observation\n",
      " |  \n",
      " |  beam: dict\n",
      " |      Beam data of the observation in degree\n",
      " |  \n",
      " |  ref_freq: float\n",
      " |      Reference frequency in Hz of the Spectrum. It is the starting frequency of the spectrum.\n",
      " |  \n",
      " |  chan_width: float\n",
      " |      Frequency channel width in Hz: Frequency of each incremental channel\n",
      " |  \n",
      " |  spec_freq: numpy.ndarray\n",
      " |      Frequencies of the spectrum\n",
      " |  \n",
      " |  ra: float\n",
      " |      RA in degree of the image's center \n",
      " |  \n",
      " |  dec: float\n",
      " |      DEC in degree of the image's center\n",
      " |  \n",
      " |  radesys: float\n",
      " |      The coordinate system used for RA and DEC in the FITS file\n",
      " |  \n",
      " |  pixel_dist: dict\n",
      " |      Pixel distribution with counts as pixel counts and vals as pixel values \n",
      " |  \n",
      " |  \n",
      " |  Methods\n",
      " |  -------\n",
      " |  get_header(self)\n",
      " |      Read header data of the FITS file\n",
      " |  \n",
      " |  print_header(self)\n",
      " |      Print the header data\n",
      " |  \n",
      " |  get_imgdata(self)\n",
      " |      Obtain the image data of the FITS file\n",
      " |  \n",
      " |  get_pixel_dist(self)\n",
      " |      Obtain the pixel distribution of the FITS file (It only works for 2D images now)\n",
      " |  \n",
      " |  write_img2fits(self)\n",
      " |      Write the 2D image data in to a new FITS file that is Aplpy compatible\n",
      " |  \n",
      " |  Methods defined here:\n",
      " |  \n",
      " |  __init__(self, imagename='')\n",
      " |      Initialize self.  See help(type(self)) for accurate signature.\n",
      " |  \n",
      " |  get_header(self)\n",
      " |      Read the header data from the FITS file and\n",
      " |      \n",
      " |      Parameters\n",
      " |      ----------\n",
      " |      self.imagename: str\n",
      " |          The path of the FITS file\n",
      " |      \n",
      " |      Returns\n",
      " |      -------\n",
      " |      header: dict\n",
      " |          The header of the FITS file\n",
      " |  \n",
      " |  get_imgdata(self)\n",
      " |      Get pixel values from the images of the FIT file\n",
      " |      \n",
      " |      Parameters\n",
      " |      ----------\n",
      " |      self.imagename: str\n",
      " |          Path to the FITS file\n",
      " |      \n",
      " |      Returns\n",
      " |      -------\n",
      " |      imgdata: numpy.ndarray\n",
      " |          pixel values of the image\n",
      " |  \n",
      " |  get_pixel_dist(self, imgdata)\n",
      " |      Obtain the pixel distribution of the map\n",
      " |      \n",
      " |      Parameters\n",
      " |      ----------\n",
      " |      imgdata: numpy.ndarray\n",
      " |          2D image data of the given ALMA map\n",
      " |      \n",
      " |      Returns\n",
      " |      -------\n",
      " |      pixel_dist: numpy.ndarray\n",
      " |          Includes the pixel counts and the centers of the binned pixel values\n",
      " |  \n",
      " |  print_header(self)\n",
      " |      Print the header data of the FITS file\n",
      " |      \n",
      " |      Parameters\n",
      " |      ----------\n",
      " |      self.header: dict\n",
      " |          AlmaMap class header dictionary\n",
      " |      \n",
      " |      Returns\n",
      " |      -------\n",
      " |      None\n",
      " |  \n",
      " |  write_img2fits(self)\n",
      " |      Convert image data from the FITS file to a 2D FITS file\n",
      " |      \n",
      " |      Parameters\n",
      " |      ----------\n",
      " |      self.imagename: str \n",
      " |          Path to the FITS file\n",
      " |      \n",
      " |      Returns\n",
      " |      -------\n",
      " |      None\n",
      " |  \n",
      " |  ----------------------------------------------------------------------\n",
      " |  Data descriptors defined here:\n",
      " |  \n",
      " |  __dict__\n",
      " |      dictionary for instance variables (if defined)\n",
      " |  \n",
      " |  __weakref__\n",
      " |      list of weak references to the object (if defined)\n",
      "\n"
     ]
    }
   ],
   "source": [
    "help(adpipy.AlmaMap)"
   ]
  },
  {
   "cell_type": "markdown",
   "id": "659a345d",
   "metadata": {},
   "source": [
    "## Let's try to use AlmaMap class on a FITS file"
   ]
  },
  {
   "cell_type": "code",
   "execution_count": 3,
   "id": "29c1bd72",
   "metadata": {},
   "outputs": [],
   "source": [
    "# define the FITS file path\n",
    "FITSPATH = 'UV-171060.4spw.cont.image.fits'"
   ]
  },
  {
   "cell_type": "markdown",
   "id": "b13260ff",
   "metadata": {},
   "source": [
    "Initiate the AlmaMap class for the FITS file"
   ]
  },
  {
   "cell_type": "code",
   "execution_count": 4,
   "id": "5c7357a6",
   "metadata": {},
   "outputs": [
    {
     "name": "stdout",
     "output_type": "stream",
     "text": [
      "UV-171060.4spw.cont.image.fits is a ALMA Continuum Map\n"
     ]
    }
   ],
   "source": [
    "UV_171060 = adpipy.AlmaMap(imagename=FITSPATH)"
   ]
  },
  {
   "cell_type": "markdown",
   "id": "1434bede",
   "metadata": {},
   "source": [
    "Check the telescope used to observe the data here"
   ]
  },
  {
   "cell_type": "code",
   "execution_count": 5,
   "id": "2c7b19f0",
   "metadata": {},
   "outputs": [
    {
     "data": {
      "text/plain": [
       "'ALMA'"
      ]
     },
     "execution_count": 5,
     "metadata": {},
     "output_type": "execute_result"
    }
   ],
   "source": [
    "UV_171060.telescope"
   ]
  },
  {
   "cell_type": "code",
   "execution_count": 6,
   "id": "58d52a0e",
   "metadata": {},
   "outputs": [
    {
     "data": {
      "text/plain": [
       "SIMPLE  =                    T /Standard FITS                                   \n",
       "BITPIX  =                  -32 /Floating point (32 bit)                         \n",
       "NAXIS   =                    4                                                  \n",
       "NAXIS1  =                  180                                                  \n",
       "NAXIS2  =                  180                                                  \n",
       "NAXIS3  =                    1                                                  \n",
       "NAXIS4  =                    1                                                  \n",
       "EXTEND  =                    T                                                  \n",
       "BSCALE  =   1.000000000000E+00 /PHYSICAL = PIXEL*BSCALE + BZERO                 \n",
       "BZERO   =   0.000000000000E+00                                                  \n",
       "BMAJ    =   3.662657075458E-04                                                  \n",
       "BMIN    =   3.220261136691E-04                                                  \n",
       "BPA     =  -8.519662475586E+01                                                  \n",
       "BTYPE   = 'Intensity'                                                           \n",
       "OBJECT  = 'UV-171060'                                                           \n",
       "BUNIT   = 'Jy/beam '           /Brightness (pixel) unit                         \n",
       "RADESYS = 'ICRS    '                                                            \n",
       "LONPOLE =   1.800000000000E+02                                                  \n",
       "LATPOLE =   2.341327780000E+00                                                  \n",
       "PC1_1   =   1.000000000000E+00                                                  \n",
       "PC2_1   =   0.000000000000E+00                                                  \n",
       "PC3_1   =   0.000000000000E+00                                                  \n",
       "PC4_1   =   0.000000000000E+00                                                  \n",
       "PC1_2   =   0.000000000000E+00                                                  \n",
       "PC2_2   =   1.000000000000E+00                                                  \n",
       "PC3_2   =   0.000000000000E+00                                                  \n",
       "PC4_2   =   0.000000000000E+00                                                  \n",
       "PC1_3   =   0.000000000000E+00                                                  \n",
       "PC2_3   =   0.000000000000E+00                                                  \n",
       "PC3_3   =   1.000000000000E+00                                                  \n",
       "PC4_3   =   0.000000000000E+00                                                  \n",
       "PC1_4   =   0.000000000000E+00                                                  \n",
       "PC2_4   =   0.000000000000E+00                                                  \n",
       "PC3_4   =   0.000000000000E+00                                                  \n",
       "PC4_4   =   1.000000000000E+00                                                  \n",
       "CTYPE1  = 'RA---SIN'                                                            \n",
       "CRVAL1  =   1.497895000000E+02                                                  \n",
       "CDELT1  =  -5.555555555556E-05                                                  \n",
       "CRPIX1  =   9.100000000000E+01                                                  \n",
       "CUNIT1  = 'deg     '                                                            \n",
       "CTYPE2  = 'DEC--SIN'                                                            \n",
       "CRVAL2  =   2.341327780000E+00                                                  \n",
       "CDELT2  =   5.555555555556E-05                                                  \n",
       "CRPIX2  =   9.100000000000E+01                                                  \n",
       "CUNIT2  = 'deg     '                                                            \n",
       "CTYPE3  = 'FREQ    '                                                            \n",
       "CRVAL3  =   2.533837210041E+11                                                  \n",
       "CDELT3  =   1.873876066919E+10                                                  \n",
       "CRPIX3  =   1.000000000000E+00                                                  \n",
       "CUNIT3  = 'Hz      '                                                            \n",
       "CTYPE4  = 'STOKES  '                                                            \n",
       "CRVAL4  =   1.000000000000E+00                                                  \n",
       "CDELT4  =   1.000000000000E+00                                                  \n",
       "CRPIX4  =   1.000000000000E+00                                                  \n",
       "CUNIT4  = '        '                                                            \n",
       "PV2_1   =   0.000000000000E+00                                                  \n",
       "PV2_2   =   0.000000000000E+00                                                  \n",
       "RESTFRQ =   7.615427347800E+11 /Rest Frequency (Hz)                             \n",
       "SPECSYS = 'BARYCENT'           /Spectral reference frame                        \n",
       "ALTRVAL =   2.000442428733E+08 /Alternate frequency reference value             \n",
       "ALTRPIX =   1.000000000000E+00 /Alternate frequency reference pixel             \n",
       "VELREF  =                  258 /1 LSR, 2 HEL, 3 OBS, +256 Radio                 \n",
       "COMMENT casacore non-standard usage: 4 LSD, 5 GEO, 6 SOU, 7 GAL                 \n",
       "TELESCOP= 'ALMA    '                                                            \n",
       "OBSERVER= 'msyktnk '                                                            \n",
       "DATE-OBS= '2018-05-10T23:50:26.784000'                                          \n",
       "TIMESYS = 'UTC     '                                                            \n",
       "OBSRA   =   1.497895000000E+02                                                  \n",
       "OBSDEC  =   2.341327780000E+00                                                  \n",
       "OBSGEO-X=   2.225142180269E+06                                                  \n",
       "OBSGEO-Y=  -5.440307370349E+06                                                  \n",
       "OBSGEO-Z=  -2.481029851874E+06                                                  \n",
       "INSTRUME= 'ALMA    '                                                            \n",
       "DISTANCE=   0.000000000000E+00                                                  \n",
       "USEWEIGH=                    F                                                  \n",
       "DATE    = '2021-06-08T22:23:47.328000' /Date FITS file was written              \n",
       "ORIGIN  = 'CASA 5.7.2-4'                                                        "
      ]
     },
     "execution_count": 6,
     "metadata": {},
     "output_type": "execute_result"
    }
   ],
   "source": [
    "UV_171060.header"
   ]
  },
  {
   "cell_type": "code",
   "execution_count": 7,
   "id": "5fa709c0",
   "metadata": {},
   "outputs": [
    {
     "data": {
      "text/plain": [
       "4"
      ]
     },
     "execution_count": 7,
     "metadata": {},
     "output_type": "execute_result"
    }
   ],
   "source": [
    "UV_171060.header['NAXIS']"
   ]
  },
  {
   "cell_type": "code",
   "execution_count": 8,
   "id": "60a34249",
   "metadata": {},
   "outputs": [
    {
     "data": {
      "text/plain": [
       "1"
      ]
     },
     "execution_count": 8,
     "metadata": {},
     "output_type": "execute_result"
    }
   ],
   "source": [
    "UV_171060.nchan"
   ]
  },
  {
   "cell_type": "code",
   "execution_count": 9,
   "id": "9f4bf6ea",
   "metadata": {},
   "outputs": [
    {
     "data": {
      "text/plain": [
       "array([[nan, nan, nan, ..., nan, nan, nan],\n",
       "       [nan, nan, nan, ..., nan, nan, nan],\n",
       "       [nan, nan, nan, ..., nan, nan, nan],\n",
       "       ...,\n",
       "       [nan, nan, nan, ..., nan, nan, nan],\n",
       "       [nan, nan, nan, ..., nan, nan, nan],\n",
       "       [nan, nan, nan, ..., nan, nan, nan]], dtype=float32)"
      ]
     },
     "execution_count": 9,
     "metadata": {},
     "output_type": "execute_result"
    }
   ],
   "source": [
    "UV_171060.imgdata"
   ]
  },
  {
   "cell_type": "code",
   "execution_count": 12,
   "id": "8ae139aa",
   "metadata": {},
   "outputs": [
    {
     "data": {
      "text/plain": [
       "0.00013820446"
      ]
     },
     "execution_count": 12,
     "metadata": {},
     "output_type": "execute_result"
    }
   ],
   "source": [
    "import numpy as np\n",
    "np.nanmax(UV_171060.imgdata)"
   ]
  },
  {
   "cell_type": "code",
   "execution_count": 13,
   "id": "e6936d92",
   "metadata": {},
   "outputs": [
    {
     "data": {
      "text/plain": [
       "{'BMAJ': 0.0003662657075458,\n",
       " 'BMIN': 0.0003220261136691,\n",
       " 'BPA': -85.19662475586}"
      ]
     },
     "execution_count": 13,
     "metadata": {},
     "output_type": "execute_result"
    }
   ],
   "source": [
    "UV_171060.beam"
   ]
  },
  {
   "cell_type": "code",
   "execution_count": null,
   "id": "cecef4b9",
   "metadata": {},
   "outputs": [],
   "source": []
  }
 ],
 "metadata": {
  "kernelspec": {
   "display_name": "myenv",
   "language": "python",
   "name": "myenv"
  },
  "language_info": {
   "codemirror_mode": {
    "name": "ipython",
    "version": 3
   },
   "file_extension": ".py",
   "mimetype": "text/x-python",
   "name": "python",
   "nbconvert_exporter": "python",
   "pygments_lexer": "ipython3",
   "version": "3.8.13"
  }
 },
 "nbformat": 4,
 "nbformat_minor": 5
}
