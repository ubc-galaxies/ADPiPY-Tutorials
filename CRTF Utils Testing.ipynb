{
 "cells": [
  {
   "cell_type": "code",
   "execution_count": 27,
   "id": "76d791ad",
   "metadata": {},
   "outputs": [],
   "source": [
    "import casatools"
   ]
  },
  {
   "cell_type": "code",
   "execution_count": 35,
   "id": "aa2d9459",
   "metadata": {},
   "outputs": [],
   "source": [
    "import numpy as np"
   ]
  },
  {
   "cell_type": "code",
   "execution_count": 52,
   "id": "47125663",
   "metadata": {},
   "outputs": [],
   "source": [
    "im = casatools.image()"
   ]
  },
  {
   "cell_type": "code",
   "execution_count": 53,
   "id": "25a35850",
   "metadata": {},
   "outputs": [
    {
     "data": {
      "text/plain": [
       "True"
      ]
     },
     "execution_count": 53,
     "metadata": {},
     "output_type": "execute_result"
    }
   ],
   "source": [
    "im.open(\"UV-171060.4spw.cont.image.fits\")"
   ]
  },
  {
   "cell_type": "code",
   "execution_count": 67,
   "id": "a1c41815",
   "metadata": {},
   "outputs": [],
   "source": [
    "w = im.toworld(np.array([82.1, 95.9]), 'n')  # return world coordinate in radian"
   ]
  },
  {
   "cell_type": "code",
   "execution_count": 72,
   "id": "8a8e79bb",
   "metadata": {},
   "outputs": [],
   "source": [
    "w_rad = w['numeric'][:2]"
   ]
  },
  {
   "cell_type": "code",
   "execution_count": 77,
   "id": "98d7bea4",
   "metadata": {},
   "outputs": [],
   "source": [
    "w_degree = w_rad*180/np.pi"
   ]
  },
  {
   "cell_type": "code",
   "execution_count": 38,
   "id": "2967a07c",
   "metadata": {},
   "outputs": [],
   "source": [
    "from astropy import units as u\n",
    "from astropy.coordinates import SkyCoord"
   ]
  },
  {
   "cell_type": "code",
   "execution_count": 40,
   "id": "e83f17bd",
   "metadata": {},
   "outputs": [],
   "source": [
    "c = SkyCoord(w[0]*u.degree, w[1]*u.degree)"
   ]
  },
  {
   "cell_type": "code",
   "execution_count": 41,
   "id": "eb7da62c",
   "metadata": {},
   "outputs": [
    {
     "data": {
      "text/plain": [
       "hms_tuple(h=9.0, m=59.0, s=9.585421365011939)"
      ]
     },
     "execution_count": 41,
     "metadata": {},
     "output_type": "execute_result"
    }
   ],
   "source": [
    "c.ra.hms"
   ]
  },
  {
   "cell_type": "code",
   "execution_count": 47,
   "id": "12e7fe12",
   "metadata": {},
   "outputs": [
    {
     "data": {
      "text/plain": [
       "dms_tuple(d=2.0, m=20.0, s=29.96000775258274)"
      ]
     },
     "execution_count": 47,
     "metadata": {},
     "output_type": "execute_result"
    }
   ],
   "source": [
    "c.dec.dms"
   ]
  },
  {
   "cell_type": "code",
   "execution_count": 81,
   "id": "53e5644d",
   "metadata": {},
   "outputs": [],
   "source": [
    "p = im.topixel(w_rad)"
   ]
  },
  {
   "cell_type": "code",
   "execution_count": 82,
   "id": "3afd863e",
   "metadata": {},
   "outputs": [
    {
     "data": {
      "text/plain": [
       "array([82.1, 95.9])"
      ]
     },
     "execution_count": 82,
     "metadata": {},
     "output_type": "execute_result"
    }
   ],
   "source": [
    "p['numeric'][:2]"
   ]
  },
  {
   "cell_type": "markdown",
   "id": "7fa0858b",
   "metadata": {},
   "source": [
    "# Reading CRTF"
   ]
  },
  {
   "cell_type": "code",
   "execution_count": 83,
   "id": "7edf36a9",
   "metadata": {},
   "outputs": [],
   "source": [
    "import json"
   ]
  },
  {
   "cell_type": "code",
   "execution_count": 90,
   "id": "0a90ad12",
   "metadata": {},
   "outputs": [],
   "source": [
    "    def readCRTF (crtf):\n",
    "        f = open(crtf, 'r+')\n",
    "        output = f.readlines()\n",
    "        aper = output[1]\n",
    "        # x = np.array(json.loads(aper.replace(' ','').split('c')[0].replace('poly','').replace('pix','')))[:,0]\n",
    "        # y = np.array(json.loads(aper.replace(' ','').split('c')[0].replace('poly','').replace('pix','')))[:,1]\n",
    "        pixel_arr = np.array(json.loads(aper.replace(' ','').split('c')[0].replace('poly','').replace('pix','')))\n",
    "        f.close()\n",
    "        # return x, y\n",
    "        return pixel_arr"
   ]
  },
  {
   "cell_type": "code",
   "execution_count": 91,
   "id": "9b14440a",
   "metadata": {},
   "outputs": [],
   "source": [
    "pixel_arr = readCRTF('UV-171060_peri.crtf')"
   ]
  },
  {
   "cell_type": "code",
   "execution_count": 97,
   "id": "7c083192",
   "metadata": {},
   "outputs": [
    {
     "data": {
      "text/plain": [
       "array([[82.1, 95.9],\n",
       "       [80. , 94.4],\n",
       "       [81.2, 91.8],\n",
       "       [81. , 89.5],\n",
       "       [80.5, 86.1],\n",
       "       [79. , 83.4],\n",
       "       [79.6, 79.8],\n",
       "       [83.9, 76.1],\n",
       "       [85.8, 78.4],\n",
       "       [85.3, 80.1],\n",
       "       [83.2, 83. ],\n",
       "       [93.1, 86.9],\n",
       "       [94.7, 91. ],\n",
       "       [93.4, 94.5],\n",
       "       [91.7, 95. ],\n",
       "       [90.2, 95. ],\n",
       "       [86.4, 98.5],\n",
       "       [84.5, 98.5],\n",
       "       [82.8, 96.3]])"
      ]
     },
     "execution_count": 97,
     "metadata": {},
     "output_type": "execute_result"
    }
   ],
   "source": [
    "pixel_arr"
   ]
  },
  {
   "cell_type": "code",
   "execution_count": 98,
   "id": "b023fd5d",
   "metadata": {},
   "outputs": [
    {
     "name": "stdout",
     "output_type": "stream",
     "text": [
      "[82.1 95.9]\n",
      "[80.  94.4]\n",
      "[81.2 91.8]\n",
      "[81.  89.5]\n",
      "[80.5 86.1]\n",
      "[79.  83.4]\n",
      "[79.6 79.8]\n",
      "[83.9 76.1]\n",
      "[85.8 78.4]\n",
      "[85.3 80.1]\n",
      "[83.2 83. ]\n",
      "[93.1 86.9]\n",
      "[94.7 91. ]\n",
      "[93.4 94.5]\n",
      "[91.7 95. ]\n",
      "[90.2 95. ]\n",
      "[86.4 98.5]\n",
      "[84.5 98.5]\n",
      "[82.8 96.3]\n"
     ]
    }
   ],
   "source": [
    "for pixel_coord in pixel_arr:\n",
    "    print(pixel_coord)"
   ]
  },
  {
   "cell_type": "code",
   "execution_count": 1,
   "id": "f9995a30",
   "metadata": {},
   "outputs": [],
   "source": [
    "import adpipy"
   ]
  },
  {
   "cell_type": "code",
   "execution_count": 5,
   "id": "49c77bde",
   "metadata": {},
   "outputs": [
    {
     "name": "stdout",
     "output_type": "stream",
     "text": [
      "UV-171060.spw27.line.image.fits is a ALMA Data Cube\n",
      "Image data is not 2-dimensional. Return None.\n"
     ]
    }
   ],
   "source": [
    "am = adpipy.AlmaMap('UV-171060.spw27.line.image.fits')"
   ]
  },
  {
   "cell_type": "code",
   "execution_count": 6,
   "id": "7c34d457",
   "metadata": {},
   "outputs": [
    {
     "data": {
      "text/plain": [
       "(1, 240, 180, 180)"
      ]
     },
     "execution_count": 6,
     "metadata": {},
     "output_type": "execute_result"
    }
   ],
   "source": [
    "am.imgdata.shape"
   ]
  },
  {
   "cell_type": "code",
   "execution_count": 7,
   "id": "4ee59d16",
   "metadata": {},
   "outputs": [
    {
     "data": {
      "text/plain": [
       "array([[[[nan, nan, nan, ..., nan, nan, nan],\n",
       "         [nan, nan, nan, ..., nan, nan, nan],\n",
       "         [nan, nan, nan, ..., nan, nan, nan],\n",
       "         ...,\n",
       "         [nan, nan, nan, ..., nan, nan, nan],\n",
       "         [nan, nan, nan, ..., nan, nan, nan],\n",
       "         [nan, nan, nan, ..., nan, nan, nan]],\n",
       "\n",
       "        [[nan, nan, nan, ..., nan, nan, nan],\n",
       "         [nan, nan, nan, ..., nan, nan, nan],\n",
       "         [nan, nan, nan, ..., nan, nan, nan],\n",
       "         ...,\n",
       "         [nan, nan, nan, ..., nan, nan, nan],\n",
       "         [nan, nan, nan, ..., nan, nan, nan],\n",
       "         [nan, nan, nan, ..., nan, nan, nan]],\n",
       "\n",
       "        [[nan, nan, nan, ..., nan, nan, nan],\n",
       "         [nan, nan, nan, ..., nan, nan, nan],\n",
       "         [nan, nan, nan, ..., nan, nan, nan],\n",
       "         ...,\n",
       "         [nan, nan, nan, ..., nan, nan, nan],\n",
       "         [nan, nan, nan, ..., nan, nan, nan],\n",
       "         [nan, nan, nan, ..., nan, nan, nan]],\n",
       "\n",
       "        ...,\n",
       "\n",
       "        [[nan, nan, nan, ..., nan, nan, nan],\n",
       "         [nan, nan, nan, ..., nan, nan, nan],\n",
       "         [nan, nan, nan, ..., nan, nan, nan],\n",
       "         ...,\n",
       "         [nan, nan, nan, ..., nan, nan, nan],\n",
       "         [nan, nan, nan, ..., nan, nan, nan],\n",
       "         [nan, nan, nan, ..., nan, nan, nan]],\n",
       "\n",
       "        [[nan, nan, nan, ..., nan, nan, nan],\n",
       "         [nan, nan, nan, ..., nan, nan, nan],\n",
       "         [nan, nan, nan, ..., nan, nan, nan],\n",
       "         ...,\n",
       "         [nan, nan, nan, ..., nan, nan, nan],\n",
       "         [nan, nan, nan, ..., nan, nan, nan],\n",
       "         [nan, nan, nan, ..., nan, nan, nan]],\n",
       "\n",
       "        [[nan, nan, nan, ..., nan, nan, nan],\n",
       "         [nan, nan, nan, ..., nan, nan, nan],\n",
       "         [nan, nan, nan, ..., nan, nan, nan],\n",
       "         ...,\n",
       "         [nan, nan, nan, ..., nan, nan, nan],\n",
       "         [nan, nan, nan, ..., nan, nan, nan],\n",
       "         [nan, nan, nan, ..., nan, nan, nan]]]], dtype=float32)"
      ]
     },
     "execution_count": 7,
     "metadata": {},
     "output_type": "execute_result"
    }
   ],
   "source": [
    "am.imgdata"
   ]
  },
  {
   "cell_type": "code",
   "execution_count": 1,
   "id": "3d7808f3",
   "metadata": {},
   "outputs": [],
   "source": [
    "import adpipy"
   ]
  },
  {
   "cell_type": "code",
   "execution_count": 2,
   "id": "865c0205",
   "metadata": {},
   "outputs": [
    {
     "name": "stdout",
     "output_type": "stream",
     "text": [
      "Help on package adpipy:\n",
      "\n",
      "NAME\n",
      "    adpipy\n",
      "\n",
      "PACKAGE CONTENTS\n",
      "    AlmaMap\n",
      "    DetectSources\n",
      "    ExtractNSigmaRegions\n",
      "    NoiseCal\n",
      "    Photometry\n",
      "    utils (package)\n",
      "\n",
      "SUBMODULES\n",
      "    crtftools\n",
      "    plottools\n",
      "\n",
      "FILE\n",
      "    /Users/menorahlam/myvenv/lib/python3.8/site-packages/adpipy/__init__.py\n",
      "\n",
      "\n"
     ]
    }
   ],
   "source": [
    "help(adpipy)"
   ]
  },
  {
   "cell_type": "code",
   "execution_count": 4,
   "id": "b1b90585",
   "metadata": {},
   "outputs": [
    {
     "name": "stdout",
     "output_type": "stream",
     "text": [
      "Help on package adpipy.utils in adpipy:\n",
      "\n",
      "NAME\n",
      "    adpipy.utils\n",
      "\n",
      "PACKAGE CONTENTS\n",
      "    crtftools\n",
      "    plottools\n",
      "\n",
      "FILE\n",
      "    /Users/menorahlam/myvenv/lib/python3.8/site-packages/adpipy/utils/__init__.py\n",
      "\n",
      "\n"
     ]
    }
   ],
   "source": [
    "help(adpipy.utils)"
   ]
  },
  {
   "cell_type": "code",
   "execution_count": null,
   "id": "1130c688",
   "metadata": {},
   "outputs": [],
   "source": []
  }
 ],
 "metadata": {
  "kernelspec": {
   "display_name": "myenv",
   "language": "python",
   "name": "myenv"
  },
  "language_info": {
   "codemirror_mode": {
    "name": "ipython",
    "version": 3
   },
   "file_extension": ".py",
   "mimetype": "text/x-python",
   "name": "python",
   "nbconvert_exporter": "python",
   "pygments_lexer": "ipython3",
   "version": "3.8.13"
  }
 },
 "nbformat": 4,
 "nbformat_minor": 5
}
